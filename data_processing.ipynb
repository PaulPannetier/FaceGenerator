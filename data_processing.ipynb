{
 "cells": [
  {
   "cell_type": "code",
   "execution_count": 2,
   "metadata": {},
   "outputs": [],
   "source": [
    "import torch\n",
    "import os\n",
    "import shutil\n",
    "import torchvision\n",
    "from torchvision.transforms.functional import InterpolationMode\n",
    "from torchvision.io.image import ImageReadMode\n",
    "import matplotlib.pyplot as plt\n",
    "import tqdm"
   ]
  },
  {
   "cell_type": "code",
   "execution_count": 3,
   "metadata": {},
   "outputs": [
    {
     "name": "stdout",
     "output_type": "stream",
     "text": [
      "cuda\n"
     ]
    }
   ],
   "source": [
    "device:str = \"cuda\" if torch.cuda.is_available() else \"cpu\"\n",
    "print(device)"
   ]
  },
  {
   "cell_type": "code",
   "execution_count": 4,
   "metadata": {},
   "outputs": [
    {
     "name": "stderr",
     "output_type": "stream",
     "text": [
      "Resizing images...: 100%|██████████| 1622/1622 [00:35<00:00, 45.64it/s] \n",
      "Resizing images...: 100%|██████████| 1622/1622 [00:38<00:00, 41.77it/s] \n",
      "Resizing images...: 100%|██████████| 1622/1622 [00:40<00:00, 39.77it/s]\n",
      "Resizing images...: 100%|██████████| 1622/1622 [00:51<00:00, 31.70it/s]\n"
     ]
    }
   ],
   "source": [
    "def resize_images(input_path:str, output_path:str, size:tuple[int, int]) -> None:\n",
    "    if os.path.isdir(output_path):\n",
    "       shutil.rmtree(output_path)\n",
    "\n",
    "    os.mkdir(output_path)\n",
    "\n",
    "    raw_images_path:list[str] = os.listdir(input_path)\n",
    "    trans_resize:torchvision.transforms.Resize = torchvision.transforms.Resize(size, InterpolationMode.BICUBIC, antialias=True)\n",
    "\n",
    "    with tqdm.tqdm(total=len(raw_images_path), desc=f\"Resizing images to ({size[0]}, {size[1]})\") as pbar:\n",
    "        for i, image_local_path in enumerate(raw_images_path):\n",
    "            image_absolute_path:str = os.path.join(input_path, image_local_path)\n",
    "            raw_image:torch.Tensor = torchvision.io.read_image(image_absolute_path, ImageReadMode.RGB).to(device)\n",
    "            output_image:torch.Tensor = trans_resize(raw_image).cpu() \n",
    "            torchvision.io.write_png(output_image, os.path.join(output_path, str(i) + \".png\"), 0)\n",
    "            pbar.update(1)\n",
    "\n",
    "input_path:str = os.path.join(os.getcwd(), \"Dataset\", \"raw\")\n",
    "output_paths:list[str] = [\n",
    "    os.path.join(os.getcwd(), \"Dataset\", \"64x64\"),\n",
    "    os.path.join(os.getcwd(), \"Dataset\", \"128x128\"),\n",
    "    os.path.join(os.getcwd(), \"Dataset\", \"256x256\"),\n",
    "    os.path.join(os.getcwd(), \"Dataset\", \"512x512\")\n",
    "]\n",
    "new_sizes:list[tuple[int, int]] = [\n",
    "    (64, 64),\n",
    "    (128, 128),\n",
    "    (256, 256),\n",
    "    (512, 512),\n",
    "]\n",
    "\n",
    "assert len(output_paths) == len(new_sizes)\n",
    "\n",
    "for i in range(0, len(output_paths)):\n",
    "    resize_images(input_path, output_paths[i], new_sizes[i])"
   ]
  }
 ],
 "metadata": {
  "kernelspec": {
   "display_name": "Python 3",
   "language": "python",
   "name": "python3"
  },
  "language_info": {
   "codemirror_mode": {
    "name": "ipython",
    "version": 3
   },
   "file_extension": ".py",
   "mimetype": "text/x-python",
   "name": "python",
   "nbconvert_exporter": "python",
   "pygments_lexer": "ipython3",
   "version": "3.13.3"
  }
 },
 "nbformat": 4,
 "nbformat_minor": 2
}
