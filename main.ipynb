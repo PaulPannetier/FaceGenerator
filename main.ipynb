{
 "cells": [
  {
   "cell_type": "code",
   "execution_count": 2,
   "metadata": {},
   "outputs": [],
   "source": [
    "import torch\n",
    "import torch.nn as nn\n",
    "import torch.nn.functional as F\n",
    "from torch.nn.modules.loss import _Loss\n",
    "import os\n",
    "import torchvision\n",
    "from torchvision.io.image import ImageReadMode\n",
    "import matplotlib.pyplot as plt\n",
    "from sklearn.model_selection import train_test_split\n",
    "import random\n",
    "from torch.utils.data import TensorDataset, DataLoader\n",
    "import tqdm"
   ]
  },
  {
   "cell_type": "code",
   "execution_count": 3,
   "metadata": {},
   "outputs": [],
   "source": [
    "class SelfAttention(nn.Module):\n",
    "    def __init__(self, channels) -> None:\n",
    "        super().__init__()\n",
    "        self.channels = channels\n",
    "        self.query:nn.Conv2d = nn.Conv2d(channels, channels, 1)\n",
    "        self.key:nn.Conv2d = nn.Conv2d(channels, channels, 1)\n",
    "        self.value:nn.Conv2d = nn.Conv2d(channels, channels, 1)\n",
    "        self.gamma:nn.Parameter = nn.Parameter(torch.zeros(1))\n",
    "    \n",
    "    def forward(self, x:torch.Tensor) -> torch.Tensor:\n",
    "        B, C, H, W = x.shape\n",
    "        q:torch.Tensor = self.query(x).view(B, C, H * W).permute(0, 2, 1)\n",
    "        k:torch.Tensor = self.key(x).view(B, C, H * W)\n",
    "        v:torch.Tensor = self.value(x).view(B, C, H * W)\n",
    "        \n",
    "        attn:torch.Tensor = torch.bmm(q, k) / (C ** 0.5)\n",
    "        attn = F.softmax(attn, dim=-1)\n",
    "        out:torch.Tensor = torch.bmm(v, attn.permute(0, 2, 1)).view(B, C, H, W)\n",
    "        \n",
    "        return self.gamma * out + x\n",
    "\n",
    "class ResBlock(nn.Module):\n",
    "    def __init__(self, in_channels, out_channels, time_emb_dim):\n",
    "        super().__init__()\n",
    "        self.norm1:nn.GroupNorm = nn.GroupNorm(min(32, in_channels), in_channels)\n",
    "        self.conv1:nn.Conv2d = nn.Conv2d(in_channels, out_channels, kernel_size=3, padding=1)\n",
    "        self.norm2:nn.GroupNorm = nn.GroupNorm(min(32, out_channels), out_channels)\n",
    "        self.conv2:nn.Conv2d = nn.Conv2d(out_channels, out_channels, kernel_size=3, padding=1)\n",
    "        self.time_mlp:nn.Linear = nn.Linear(time_emb_dim, out_channels)\n",
    "        self.residual:nn.Conv2d = nn.Conv2d(in_channels, out_channels, 1) if in_channels != out_channels else nn.Identity()\n",
    "    \n",
    "    def forward(self, x:torch.Tensor, t:torch.Tensor) -> torch.Tensor:\n",
    "        h:torch.Tensor = self.norm1(x)\n",
    "        h = F.silu(h)\n",
    "        h = self.conv1(h)\n",
    "        h = self.norm2(h)\n",
    "        h = F.silu(h)\n",
    "        h += self.time_mlp(t)[:, :, None, None]\n",
    "        h = self.conv2(h)\n",
    "        return h + self.residual(x)\n",
    "\n",
    "class UNet(nn.Module):\n",
    "    def __init__(self, in_channels:int=3, base_channels:int=64, time_emb_dim:int=128, device:str=\"cpu\") -> None:\n",
    "        super().__init__()\n",
    "        self.in_channels:int = in_channels\n",
    "        self.base_channels:int = base_channels\n",
    "        self.time_emb_dim:int = time_emb_dim\n",
    "        self.device:str = device\n",
    "        \n",
    "        self.time_mlp:nn.Sequential = nn.Sequential(\n",
    "            nn.Linear(time_emb_dim, time_emb_dim),\n",
    "            nn.SiLU(),\n",
    "            nn.Linear(time_emb_dim, time_emb_dim)\n",
    "        )\n",
    "        \n",
    "        self.encoder:nn.ModuleList = nn.ModuleList([\n",
    "            ResBlock(in_channels, base_channels, time_emb_dim), # 3 -> 64\n",
    "            ResBlock(base_channels, base_channels * 2, time_emb_dim), # 64 -> 128\n",
    "            SelfAttention(base_channels * 2),\n",
    "            ResBlock(base_channels * 2, base_channels * 4, time_emb_dim), # 128 -> 256\n",
    "            SelfAttention(base_channels * 4)\n",
    "        ])\n",
    "        \n",
    "        self.middle:ResBlock = ResBlock(base_channels * 4, base_channels * 4, time_emb_dim) # 256 -> 256\n",
    "        \n",
    "        self.decoder:nn.ModuleList = nn.ModuleList([\n",
    "            ResBlock(base_channels * 4 + base_channels * 4, base_channels * 2, time_emb_dim),  # 512 -> 128\n",
    "            SelfAttention(base_channels * 2),\n",
    "            ResBlock(base_channels * 2 + base_channels * 2, base_channels, time_emb_dim),  # 256 -> 64\n",
    "            SelfAttention(base_channels),\n",
    "            ResBlock(base_channels + base_channels, in_channels, time_emb_dim)  # 128 -> 3\n",
    "        ])\n",
    "\n",
    "    def _get_timestep_embedding(self, t:torch.Tensor) -> torch.Tensor:\n",
    "        \"\"\"\n",
    "        Convert a tensor of timesteps t of shape (batch_size, 1) into sinusoidal embeddings of shape (batch_size, time_emb_dim)\n",
    "        \"\"\"\n",
    "        half_dim = self.time_emb_dim // 2\n",
    "        emb = torch.log(torch.tensor(10000.0, device=self.device)) / (half_dim - 1)\n",
    "        emb = torch.exp(torch.arange(half_dim, device=self.device, dtype=torch.float32) * -emb)\n",
    "        emb = t.float() * emb\n",
    "        emb = torch.cat([torch.sin(emb), torch.cos(emb)], -1)\n",
    "        return emb\n",
    "        \n",
    "    def forward(self, x:torch.Tensor, t:torch.Tensor) -> torch.Tensor:\n",
    "        t_emb:torch.Tensor = self._get_timestep_embedding(t)\n",
    "        t_emb = self.time_mlp(t_emb)\n",
    "        \n",
    "        skips:list[torch.Tensor] = list[torch.Tensor]()\n",
    "        for layer in self.encoder:\n",
    "            x = layer(x, t_emb) if isinstance(layer, ResBlock) else layer(x)\n",
    "            skips.append(x)\n",
    "\n",
    "        # print([skip.shape for skip in skips])\n",
    "\n",
    "        x = self.middle(x, t_emb)\n",
    "        \n",
    "        for layer in self.decoder:\n",
    "            skip = skips.pop()\n",
    "            if isinstance(layer, ResBlock):\n",
    "                x = torch.cat([x, skip], dim=1)\n",
    "                x = layer(x, t_emb)\n",
    "            else:\n",
    "                x = layer(x)\n",
    "        \n",
    "        return x"
   ]
  },
  {
   "cell_type": "code",
   "execution_count": 4,
   "metadata": {},
   "outputs": [],
   "source": [
    "class DiffusionModel:\n",
    "    def __init__(self, model:UNet, optimizer:torch.optim.Optimizer, criterion:_Loss,timesteps:int=1000, device:str=\"cpu\") -> None:\n",
    "        self.model:UNet = model.to(device)\n",
    "        self.optimizer:torch.optim.Optimizer = optimizer\n",
    "        self.criterion:_Loss = criterion\n",
    "        self.timesteps:int = timesteps\n",
    "        self.device:str = device\n",
    "        self.beta_schedule:torch.Tensor = torch.linspace(1e-4, 0.02, timesteps)\n",
    "        self.alpha:torch.Tensor = 1.0 - self.beta_schedule\n",
    "        self.alpha_bar:torch.Tensor = torch.cumprod(self.alpha, dim=0)\n",
    "    \n",
    "    #x0.shape : (batch_size, in_channels, base_channels, base_channels)\n",
    "    #t.shape : (batch_size)\n",
    "    def add_noise(self, x0:torch.Tensor, t:torch.Tensor) -> tuple[torch.Tensor, torch.Tensor]:\n",
    "        noise:torch.Tensor = torch.randn(x0.shape)\n",
    "        alpha_bar_t:torch.Tensor = self.alpha_bar[t].view(-1, 1, 1, 1)\n",
    "        return (torch.sqrt(alpha_bar_t) * x0 + torch.sqrt(1 - alpha_bar_t) * noise).to(self.device), noise.to(self.device)\n",
    "    \n",
    "    def train_step(self, x0:torch.Tensor, perform_SGD:bool = True) -> tuple[float, torch.Tensor]:\n",
    "\n",
    "        def train(x0:torch.Tensor):\n",
    "            batch_size:int = x0.shape[0]\n",
    "            t:torch.Tensor = torch.randint(0, self.timesteps, (batch_size,))\n",
    "            xt, noise = self.add_noise(x0, t)\n",
    "            t = t.float().unsqueeze(1).to(self.device)\n",
    "            self.optimizer.zero_grad()\n",
    "            pred_noise:torch.Tensor = self.model(xt, t)\n",
    "            loss:torch.Tensor = self.criterion(pred_noise, noise)\n",
    "            if perform_SGD:\n",
    "                loss.backward()\n",
    "                # torch.nn.utils.clip_grad_norm_(model.parameters(), max_norm=1.0)\n",
    "                self.optimizer.step()\n",
    "\n",
    "            if self.device != \"cpu\":\n",
    "                del x0\n",
    "                del xt\n",
    "                del t\n",
    "                del noise\n",
    "                torch.cuda.empty_cache()\n",
    "            return loss.detach().cpu().item(), pred_noise.detach().cpu()\n",
    "        \n",
    "        if perform_SGD:\n",
    "            return train(x0)\n",
    "        with torch.no_grad():\n",
    "            return train(x0)\n",
    "    \n",
    "    def sample(self, nb_sample:int) -> torch.Tensor:\n",
    "        size:tuple[int] = (nb_sample, self.model.base_channels, self.model.base_channels, self.model.base_channels)\n",
    "        x:torch.Tensor = torch.randn(size).to(self.device)\n",
    "        for t in reversed(range(0, self.timesteps)):\n",
    "            t_tensor:torch.Tensor = torch.tensor([t], device=self.device).float().unsqueeze(1)\n",
    "            pred_noise:torch.Tensor = self.model(x, t_tensor)\n",
    "            alpha_t:float = self.alpha[t]\n",
    "            alpha_bar_t:float = self.alpha_bar[t]\n",
    "            beta_t:float = self.beta_schedule[t]\n",
    "            noise:torch.Tensor = None\n",
    "            if t > 0:\n",
    "                noise = torch.randn(x.shape, device=self.device)\n",
    "            else:\n",
    "                noise = torch.zeros(x.shape, device=self.device)\n",
    "            x = 1 / torch.sqrt(alpha_t) * (x - ((1 - alpha_t) / torch.sqrt(1 - alpha_bar_t)) * pred_noise) + torch.sqrt(beta_t) * noise\n",
    "\n",
    "        return torch.clamp(x, 0.0, 1.0)"
   ]
  },
  {
   "cell_type": "code",
   "execution_count": 5,
   "metadata": {},
   "outputs": [],
   "source": [
    "def load_dataset() -> list[torch.Tensor]:\n",
    "    images_dir:str = os.path.join(os.getcwd(), \"Dataset\", \"64x64\")\n",
    "    images_path:list[str] = os.listdir(images_dir)\n",
    "    images:list[torch.Tensor] = list[torch.Tensor]()\n",
    "\n",
    "    for image_local_path in images_path:\n",
    "        image_absolute_path:str = os.path.join(images_dir, image_local_path)\n",
    "        image:torch.Tensor = torchvision.io.read_image(image_absolute_path, ImageReadMode.RGB).type(torch.float32) / 255.0\n",
    "        images.append(image)\n",
    "\n",
    "    return images\n",
    "\n",
    "dataset:list[torch.Tensor] = load_dataset()"
   ]
  },
  {
   "cell_type": "code",
   "execution_count": 6,
   "metadata": {},
   "outputs": [],
   "source": [
    "def plot_dataset_image(nb_image:int) -> None:\n",
    "    for _ in range(0, nb_image):\n",
    "        index:int = random.randint(0, len(dataset) - 1)\n",
    "        image:torch.Tensor = dataset[index]\n",
    "        image = image.permute(1, 2, 0)\n",
    "        plt.imshow(image)\n",
    "        plt.show()\n",
    "        \n",
    "# plot_dataset_image(1)"
   ]
  },
  {
   "cell_type": "code",
   "execution_count": 7,
   "metadata": {},
   "outputs": [],
   "source": [
    "def test_add_noise() -> None:\n",
    "    unet:UNet = UNet(3, 64, 128)\n",
    "    diffusion:DiffusionModel = DiffusionModel(unet, 1000, \"cpu\")\n",
    "    input:torch.Tensor = dataset[0].unsqueeze(0)\n",
    "    t:torch.Tensor = torch.tensor(10)\n",
    "    xt, noise = diffusion.add_noise(input, t)\n",
    "    xt = xt.squeeze(0).permute(1, 2, 0)\n",
    "    noise = noise.squeeze(0).permute(1, 2, 0)\n",
    "    plt.imshow(input.squeeze(0).permute(1, 2, 0))\n",
    "    plt.show()\n",
    "    plt.imshow(xt)\n",
    "    plt.show()\n",
    "    plt.imshow(noise)\n",
    "    plt.show()\n",
    "    \n",
    "# test_add_noise()"
   ]
  },
  {
   "cell_type": "code",
   "execution_count": 8,
   "metadata": {},
   "outputs": [],
   "source": [
    "def add_regular_noise(images:torch.Tensor, min_noise_delta:float, max_noise_delta:float, noise_variant_per_epoch:int, device:str = \"cpu\") -> tuple[torch.Tensor, torch.Tensor]:\n",
    "    batch_size = images.shape[0]\n",
    "    new_images_lst:list[torch.Tensor] = list[torch.Tensor]()\n",
    "    for i in range(0, batch_size):\n",
    "        for _ in range(0, noise_variant_per_epoch):\n",
    "            new_images_lst.append(images[i])\n",
    "    new_images:torch.Tensor = torch.stack(new_images_lst).cpu()\n",
    "\n",
    "    size:tuple[int] = (images.shape[0] * noise_variant_per_epoch, images.shape[1], images.shape[2], images.shape[3])\n",
    "    noise:torch.Tensor = torch.rand(size)\n",
    "    noise_deltas:torch.Tensor = (max_noise_delta - min_noise_delta) * torch.rand(batch_size * noise_variant_per_epoch) + min_noise_delta\n",
    "    noise_levels:torch.Tensor = (torch.rand(batch_size * noise_variant_per_epoch) * (1.0 - noise_deltas)) + (noise_deltas * 0.5)\n",
    "\n",
    "    min_noise_levels = noise_levels - (noise_deltas * 0.5)\n",
    "    max_noise_levels = noise_levels + (noise_deltas * 0.5)\n",
    "\n",
    "    min_noisy_images = (new_images * (1.0 - min_noise_levels.view(-1, 1, 1, 1))) + (noise * min_noise_levels.view(-1, 1, 1, 1))\n",
    "    max_noisy_images = (new_images * (1.0 - max_noise_levels.view(-1, 1, 1, 1))) + (noise * max_noise_levels.view(-1, 1, 1, 1))\n",
    "\n",
    "    return (min_noisy_images.to(device), max_noisy_images.to(device))"
   ]
  },
  {
   "cell_type": "code",
   "execution_count": 9,
   "metadata": {},
   "outputs": [],
   "source": [
    "def add_gaussian_noise(images:torch.Tensor, min_noise_delta:float, max_noise_delta:float, noise_variant_per_epoch:int, device:str = \"cpu\") -> tuple[torch.Tensor, torch.Tensor]:\n",
    "    batch_size = images.shape[0]\n",
    "    new_images_lst:list[torch.Tensor] = list[torch.Tensor]()\n",
    "    for i in range(0, batch_size):\n",
    "        for _ in range(0, noise_variant_per_epoch):\n",
    "            new_images_lst.append(images[i])\n",
    "    new_images:torch.Tensor = torch.stack(new_images_lst).cpu()\n",
    "\n",
    "    size:tuple[int] = (images.shape[0] * noise_variant_per_epoch, images.shape[1], images.shape[2], images.shape[3])\n",
    "    noise:torch.Tensor = torch.clamp(torch.normal(torch.ones(size) * 0.5, torch.ones(size) * 0.125), torch.zeros(size), torch.ones(size))\n",
    "    noise_deltas:torch.Tensor = (max_noise_delta - min_noise_delta) * torch.rand(batch_size * noise_variant_per_epoch) + min_noise_delta\n",
    "    noise_levels:torch.Tensor = (torch.rand(batch_size * noise_variant_per_epoch) * (1.0 - noise_deltas)) + (noise_deltas * 0.5)\n",
    "\n",
    "    min_noise_levels = noise_levels - (noise_deltas * 0.5)\n",
    "    max_noise_levels = noise_levels + (noise_deltas * 0.5)\n",
    "\n",
    "    min_noisy_images = (new_images * (1.0 - min_noise_levels.view(-1, 1, 1, 1))) + (noise * min_noise_levels.view(-1, 1, 1, 1))\n",
    "    max_noisy_images = (new_images * (1.0 - max_noise_levels.view(-1, 1, 1, 1))) + (noise * max_noise_levels.view(-1, 1, 1, 1))\n",
    "\n",
    "    return (min_noisy_images.to(device), max_noisy_images.to(device))"
   ]
  },
  {
   "cell_type": "code",
   "execution_count": 10,
   "metadata": {},
   "outputs": [],
   "source": [
    "def plot_noisy_images(nb_image:int) -> None:\n",
    "    images:torch.Tensor = torch.stack([dataset[random.randint(0, len(dataset))] for _ in range(0, nb_image)])\n",
    "    nb_variants:int = 1\n",
    "    noisy_images:tuple[torch.Tensor, torch.Tensor] = add_gaussian_noise(images, 0.025, 0.05, nb_variants, \"cpu\")\n",
    "\n",
    "    for i in range(0, nb_image):\n",
    "        plt.imshow(images[i].permute(1, 2, 0))\n",
    "        plt.show()\n",
    "        for j in range(0, nb_variants):\n",
    "            plt.imshow(noisy_images[0][i * nb_variants + j].permute(1, 2, 0))\n",
    "            plt.show()\n",
    "            plt.imshow(noisy_images[1][i * nb_variants + j].permute(1, 2, 0))\n",
    "            plt.show()\n",
    "\n",
    "# plot_noisy_images(1)"
   ]
  },
  {
   "cell_type": "code",
   "execution_count": 1,
   "metadata": {},
   "outputs": [
    {
     "ename": "NameError",
     "evalue": "name 'torch' is not defined",
     "output_type": "error",
     "traceback": [
      "\u001b[1;31m---------------------------------------------------------------------------\u001b[0m",
      "\u001b[1;31mNameError\u001b[0m                                 Traceback (most recent call last)",
      "Cell \u001b[1;32mIn[1], line 22\u001b[0m\n\u001b[0;32m     20\u001b[0m print_epoch_interval:\u001b[38;5;28mint\u001b[39m \u001b[38;5;241m=\u001b[39m \u001b[38;5;241m-\u001b[39m\u001b[38;5;241m1\u001b[39m\n\u001b[0;32m     21\u001b[0m nb_sample_to_print:\u001b[38;5;28mint\u001b[39m \u001b[38;5;241m=\u001b[39m \u001b[38;5;241m1\u001b[39m\n\u001b[1;32m---> 22\u001b[0m device:\u001b[38;5;28mstr\u001b[39m \u001b[38;5;241m=\u001b[39m \u001b[38;5;124m\"\u001b[39m\u001b[38;5;124mcuda\u001b[39m\u001b[38;5;124m\"\u001b[39m \u001b[38;5;28;01mif\u001b[39;00m \u001b[43mtorch\u001b[49m\u001b[38;5;241m.\u001b[39mcuda\u001b[38;5;241m.\u001b[39mis_available() \u001b[38;5;28;01melse\u001b[39;00m \u001b[38;5;124m\"\u001b[39m\u001b[38;5;124mcpu\u001b[39m\u001b[38;5;124m\"\u001b[39m\n\u001b[0;32m     23\u001b[0m \u001b[38;5;28mprint\u001b[39m(\u001b[38;5;124mf\u001b[39m\u001b[38;5;124m\"\u001b[39m\u001b[38;5;124mDevice : \u001b[39m\u001b[38;5;132;01m{\u001b[39;00mdevice\u001b[38;5;132;01m}\u001b[39;00m\u001b[38;5;124m\"\u001b[39m)\n",
      "\u001b[1;31mNameError\u001b[0m: name 'torch' is not defined"
     ]
    }
   ],
   "source": [
    "class UNetSetting:\n",
    "    in_channels:int=3\n",
    "    base_channels:int=64\n",
    "    time_emb_dim:int=128\n",
    "\n",
    "    def __init__(self, in_channels:int=3, base_channels:int=64, time_emb_dim:int=128) -> None:\n",
    "        self.in_channels = in_channels\n",
    "        self.base_channels = base_channels\n",
    "        self.time_emb_dim = time_emb_dim\n",
    "\n",
    "#training params\n",
    "unet_setting = UNetSetting(3, 64, 128)\n",
    "lr:float = 0.0001\n",
    "batch_size:int = 48\n",
    "timestep:int = 1000\n",
    "time_embedding_dim:int = 128\n",
    "epochs:int = 10\n",
    "test_proportion:float = 0.1\n",
    "saving_model:bool = True\n",
    "print_epoch_interval:int = -1\n",
    "nb_sample_to_print:int = 1\n",
    "device:str = \"cuda\" if torch.cuda.is_available() else \"cpu\"\n",
    "print(f\"Device : {device}\")"
   ]
  },
  {
   "cell_type": "code",
   "execution_count": null,
   "metadata": {},
   "outputs": [],
   "source": [
    "class TrainResult:\n",
    "    denoiser:UNet\n",
    "    train_losses:list[float]\n",
    "    test_losses:list[float]\n",
    "\n",
    "    def __init__(self, denoiser:UNet, train_losses:list[float], test_losses:list[float]) -> None:\n",
    "        self.denoiser = denoiser\n",
    "        self.train_losses = train_losses\n",
    "        self.test_losses = test_losses"
   ]
  },
  {
   "cell_type": "code",
   "execution_count": null,
   "metadata": {},
   "outputs": [
    {
     "name": "stdout",
     "output_type": "stream",
     "text": [
      "Start training UNet\n"
     ]
    },
    {
     "name": "stderr",
     "output_type": "stream",
     "text": [
      "Training model:   5%|▌         | 1154/23080 [38:18<12:02:06,  1.98s/it]"
     ]
    },
    {
     "name": "stdout",
     "output_type": "stream",
     "text": [
      "Epoch 1, Loss: 0.17916360792393485\n"
     ]
    },
    {
     "name": "stderr",
     "output_type": "stream",
     "text": [
      "Training model:  10%|█         | 2308/23080 [1:12:48<9:30:05,  1.65s/it] "
     ]
    },
    {
     "name": "stdout",
     "output_type": "stream",
     "text": [
      "Epoch 2, Loss: 0.04850701025376717\n"
     ]
    },
    {
     "name": "stderr",
     "output_type": "stream",
     "text": [
      "Training model:  15%|█▌        | 3462/23080 [1:44:00<8:54:39,  1.64s/it] "
     ]
    },
    {
     "name": "stdout",
     "output_type": "stream",
     "text": [
      "Epoch 3, Loss: 0.03611947720249494\n"
     ]
    },
    {
     "name": "stderr",
     "output_type": "stream",
     "text": [
      "Training model:  20%|██        | 4616/23080 [2:16:27<8:47:25,  1.71s/it]"
     ]
    },
    {
     "name": "stdout",
     "output_type": "stream",
     "text": [
      "Epoch 4, Loss: 0.02743071100364129\n"
     ]
    },
    {
     "name": "stderr",
     "output_type": "stream",
     "text": [
      "Training model:  25%|██▌       | 5770/23080 [2:51:03<7:42:14,  1.60s/it] "
     ]
    },
    {
     "name": "stdout",
     "output_type": "stream",
     "text": [
      "Epoch 5, Loss: 0.02338076119000713\n"
     ]
    },
    {
     "name": "stderr",
     "output_type": "stream",
     "text": [
      "Training model:  30%|███       | 6924/23080 [3:28:50<7:54:45,  1.76s/it]"
     ]
    },
    {
     "name": "stdout",
     "output_type": "stream",
     "text": [
      "Epoch 6, Loss: 0.021299920161254704\n"
     ]
    },
    {
     "name": "stderr",
     "output_type": "stream",
     "text": [
      "Training model:  35%|███▌      | 8078/23080 [4:05:01<7:39:16,  1.84s/it]"
     ]
    },
    {
     "name": "stdout",
     "output_type": "stream",
     "text": [
      "Epoch 7, Loss: 0.018305082456208766\n"
     ]
    },
    {
     "name": "stderr",
     "output_type": "stream",
     "text": [
      "Training model:  40%|████      | 9232/23080 [4:37:41<5:42:23,  1.48s/it]"
     ]
    },
    {
     "name": "stdout",
     "output_type": "stream",
     "text": [
      "Epoch 8, Loss: 0.017327901946070295\n"
     ]
    },
    {
     "name": "stderr",
     "output_type": "stream",
     "text": [
      "Training model:  45%|████▌     | 10386/23080 [5:08:02<6:23:23,  1.81s/it]"
     ]
    },
    {
     "name": "stdout",
     "output_type": "stream",
     "text": [
      "Epoch 9, Loss: 0.014698806684464216\n"
     ]
    },
    {
     "name": "stderr",
     "output_type": "stream",
     "text": [
      "Training model:  50%|█████     | 11540/23080 [5:41:42<5:49:10,  1.82s/it]"
     ]
    },
    {
     "name": "stdout",
     "output_type": "stream",
     "text": [
      "Epoch 10, Loss: 0.013186317926738411\n"
     ]
    },
    {
     "name": "stderr",
     "output_type": "stream",
     "text": [
      "Training model:  55%|█████▌    | 12694/23080 [6:13:57<4:38:53,  1.61s/it]"
     ]
    },
    {
     "name": "stdout",
     "output_type": "stream",
     "text": [
      "Epoch 11, Loss: 0.01383622117767421\n"
     ]
    },
    {
     "name": "stderr",
     "output_type": "stream",
     "text": [
      "Training model:  56%|█████▌    | 12934/23080 [6:22:07<4:59:44,  1.77s/it]\n"
     ]
    },
    {
     "ename": "KeyboardInterrupt",
     "evalue": "",
     "output_type": "error",
     "traceback": [
      "\u001b[1;31m---------------------------------------------------------------------------\u001b[0m",
      "\u001b[1;31mKeyboardInterrupt\u001b[0m                         Traceback (most recent call last)",
      "Cell \u001b[1;32mIn[13], line 69\u001b[0m\n\u001b[0;32m     66\u001b[0m train_dataset, test_dataset \u001b[38;5;241m=\u001b[39m train_test_split(dataset, test_size \u001b[38;5;241m=\u001b[39m test_proportion, random_state\u001b[38;5;241m=\u001b[39m\u001b[38;5;241m42\u001b[39m, shuffle\u001b[38;5;241m=\u001b[39m\u001b[38;5;28;01mTrue\u001b[39;00m)\n\u001b[0;32m     68\u001b[0m denoiser:UNet \u001b[38;5;241m=\u001b[39m UNet(\u001b[38;5;241m3\u001b[39m, \u001b[38;5;241m64\u001b[39m, time_embedding_dim, device)\n\u001b[1;32m---> 69\u001b[0m train_result:TrainResult \u001b[38;5;241m=\u001b[39m \u001b[43mtrain_denoiser\u001b[49m\u001b[43m(\u001b[49m\u001b[43mdenoiser\u001b[49m\u001b[43m,\u001b[49m\u001b[43m \u001b[49m\u001b[43mtrain_dataset\u001b[49m\u001b[43m,\u001b[49m\u001b[43m \u001b[49m\u001b[43mtest_dataset\u001b[49m\u001b[43m)\u001b[49m\n\u001b[0;32m     70\u001b[0m denoiser \u001b[38;5;241m=\u001b[39m train_result\u001b[38;5;241m.\u001b[39mdenoiser\n",
      "Cell \u001b[1;32mIn[13], line 24\u001b[0m, in \u001b[0;36mtrain_denoiser\u001b[1;34m(model, train_dataset, test_dataset)\u001b[0m\n\u001b[0;32m     21\u001b[0m total_loss:\u001b[38;5;28mfloat\u001b[39m \u001b[38;5;241m=\u001b[39m \u001b[38;5;241m0.0\u001b[39m\n\u001b[0;32m     22\u001b[0m \u001b[38;5;28;01mfor\u001b[39;00m input_batch \u001b[38;5;129;01min\u001b[39;00m train_loader:\n\u001b[1;32m---> 24\u001b[0m     loss, output_batch \u001b[38;5;241m=\u001b[39m \u001b[43mdiffusion\u001b[49m\u001b[38;5;241;43m.\u001b[39;49m\u001b[43mtrain_step\u001b[49m\u001b[43m(\u001b[49m\u001b[43minput_batch\u001b[49m\u001b[43m)\u001b[49m\n\u001b[0;32m     25\u001b[0m     total_loss \u001b[38;5;241m+\u001b[39m\u001b[38;5;241m=\u001b[39m loss\n\u001b[0;32m     27\u001b[0m     \u001b[38;5;28;01mif\u001b[39;00m print_sample:\n",
      "Cell \u001b[1;32mIn[4], line 43\u001b[0m, in \u001b[0;36mDiffusionModel.train_step\u001b[1;34m(self, x0, perform_SGD)\u001b[0m\n\u001b[0;32m     40\u001b[0m     \u001b[38;5;28;01mreturn\u001b[39;00m loss\u001b[38;5;241m.\u001b[39mdetach()\u001b[38;5;241m.\u001b[39mcpu()\u001b[38;5;241m.\u001b[39mitem(), pred_noise\u001b[38;5;241m.\u001b[39mdetach()\u001b[38;5;241m.\u001b[39mcpu()\n\u001b[0;32m     42\u001b[0m \u001b[38;5;28;01mif\u001b[39;00m perform_SGD:\n\u001b[1;32m---> 43\u001b[0m     \u001b[38;5;28;01mreturn\u001b[39;00m \u001b[43mtrain\u001b[49m\u001b[43m(\u001b[49m\u001b[43mx0\u001b[49m\u001b[43m)\u001b[49m\n\u001b[0;32m     44\u001b[0m \u001b[38;5;28;01mwith\u001b[39;00m torch\u001b[38;5;241m.\u001b[39mno_grad():\n\u001b[0;32m     45\u001b[0m     \u001b[38;5;28;01mreturn\u001b[39;00m train(x0)\n",
      "Cell \u001b[1;32mIn[4], line 40\u001b[0m, in \u001b[0;36mDiffusionModel.train_step.<locals>.train\u001b[1;34m(***failed resolving arguments***)\u001b[0m\n\u001b[0;32m     38\u001b[0m     \u001b[38;5;28;01mdel\u001b[39;00m noise\n\u001b[0;32m     39\u001b[0m     torch\u001b[38;5;241m.\u001b[39mcuda\u001b[38;5;241m.\u001b[39mempty_cache()\n\u001b[1;32m---> 40\u001b[0m \u001b[38;5;28;01mreturn\u001b[39;00m \u001b[43mloss\u001b[49m\u001b[38;5;241;43m.\u001b[39;49m\u001b[43mdetach\u001b[49m\u001b[43m(\u001b[49m\u001b[43m)\u001b[49m\u001b[38;5;241m.\u001b[39mcpu()\u001b[38;5;241m.\u001b[39mitem(), pred_noise\u001b[38;5;241m.\u001b[39mdetach()\u001b[38;5;241m.\u001b[39mcpu()\n",
      "\u001b[1;31mKeyboardInterrupt\u001b[0m: "
     ]
    }
   ],
   "source": [
    "def train_denoiser(model:UNet, train_dataset:list[torch.Tensor], test_dataset:list[torch.Tensor]) -> TrainResult:\n",
    "\n",
    "    sample_to_print = min(nb_sample_to_print, batch_size)\n",
    "    test_dataset_tensor:torch.Tensor = torch.stack(test_dataset).cpu()\n",
    "    train_dataset_tensor:torch.Tensor = torch.stack(train_dataset).cpu()\n",
    "\n",
    "    optimizer:torch.optim.Adam = torch.optim.Adam(model.parameters(), lr = lr)#,  weight_decay=1e-5) #weight_decay for L2 regularization\n",
    "    criterion:nn.MSELoss = nn.MSELoss()\n",
    "    diffusion:DiffusionModel = DiffusionModel(model, optimizer, criterion, timestep, device)\n",
    "\n",
    "    train_losses:list[float] = list[float]()\n",
    "    test_losses:list[float] = list[float]()\n",
    "\n",
    "    print(\"Start training UNet\")\n",
    "    with tqdm.tqdm(total=epochs * len(train_dataset), desc=\"Training model\") as pbar:\n",
    "        for epoch in range(0, epochs):\n",
    "\n",
    "            print_sample = print_epoch_interval > 0 and ((epoch + 1) % print_epoch_interval == 0 or epoch + 1 == epochs)\n",
    "            train_loader:DataLoader = DataLoader(train_dataset_tensor, batch_size, shuffle=True)\n",
    "            input_batch:torch.Tensor = None\n",
    "            total_loss:float = 0.0\n",
    "            for input_batch in train_loader:\n",
    "                \n",
    "                loss, output_batch = diffusion.train_step(input_batch)\n",
    "                total_loss += loss\n",
    "\n",
    "                if print_sample:\n",
    "                    print_sample = False\n",
    "                    for i in range(0, sample_to_print):\n",
    "                        noisy_img:torch.Tensor = input_batch[i].detach().cpu()\n",
    "                        pred_noise:torch.Tensor = output_batch[i].detach().cpu()\n",
    "                        print(\"Noisy image :\")\n",
    "                        plt.imshow(noisy_img.permute(1, 2, 0))\n",
    "                        plt.show()\n",
    "                        print(\"Predict noise :\")\n",
    "                        plt.imshow(pred_noise.permute(1, 2, 0))\n",
    "                        plt.show()\n",
    "                \n",
    "                pbar.update(input_batch.shape[0])\n",
    "\n",
    "            train_loss:float = total_loss / batch_size\n",
    "            train_losses.append(train_loss)\n",
    "            \n",
    "            total_loss = 0.0\n",
    "            train_loader:DataLoader = DataLoader(test_dataset_tensor, batch_size, shuffle=True)\n",
    "            for input_batch in train_loader:\n",
    "                loss, output_batch = diffusion.train_step(input_batch, False)\n",
    "                total_loss += loss\n",
    "            test_losses.append(total_loss / batch_size)\n",
    "\n",
    "            print(f\"Epoch {epoch+1}, Loss: {train_loss}\")\n",
    "\n",
    "            if saving_model:\n",
    "                path:str = f\"./Models/denoiser_epoch{epoch}.model\" if epoch < epochs - 1 else \"./Models/denoiser.model\"\n",
    "                if os.path.isfile(path):\n",
    "                    os.remove(path)\n",
    "\n",
    "                torch.save(model.state_dict(), path)\n",
    "                print(f\"Denoiser Saved!\")\n",
    "\n",
    "    return TrainResult(model, train_losses, test_losses)\n",
    "\n",
    "train_dataset:list[torch.Tensor] = None\n",
    "test_dataset:list[torch.Tensor] = None\n",
    "train_dataset, test_dataset = train_test_split(dataset, test_size = test_proportion, random_state=42, shuffle=True)\n",
    "\n",
    "denoiser:UNet = UNet(unet_setting.in_channels, unet_setting.base_channels, unet_setting.time_emb_dim, device)\n",
    "train_result:TrainResult = train_denoiser(denoiser, train_dataset, test_dataset)\n",
    "denoiser = train_result.denoiser"
   ]
  },
  {
   "cell_type": "code",
   "execution_count": null,
   "metadata": {},
   "outputs": [
    {
     "data": {
      "image/png": "[encoded data removed]",
      "text/plain": [
       "<Figure size 640x480 with 1 Axes>"
      ]
     },
     "metadata": {},
     "output_type": "display_data"
    }
   ],
   "source": [
    "def show_training_result(train_result:TrainResult) -> None:\n",
    "    X:list[float] = [float(i) for i in range(1, epochs + 1)]\n",
    "    plt.plot(X, train_result.train_losses, label='train loss')\n",
    "    plt.plot(X, train_result.test_losses, label='test loss')\n",
    "    plt.title(\"Losses\", fontsize=18)\n",
    "    plt.xlabel(\"epoch\")\n",
    "    plt.ylabel(\"loss\")\n",
    "    plt.legend()\n",
    "    plt.show()\n",
    "\n",
    "show_training_result(train_result)"
   ]
  },
  {
   "cell_type": "code",
   "execution_count": null,
   "metadata": {},
   "outputs": [
    {
     "name": "stdout",
     "output_type": "stream",
     "text": [
      "Model size: 82.996MB with 21756995 parameters\n"
     ]
    }
   ],
   "source": [
    "def load_denoiser() -> UNet:\n",
    "    model:UNet = UNet(unet_setting.in_channels, unet_setting.base_channels, unet_setting.time_emb_dim, device)\n",
    "    model_path:str = os.path.join(os.getcwd(), \"Models\", \"denoiser.model\")\n",
    "    model.load_state_dict(torch.load(model_path, weights_only=True))\n",
    "    model.eval()\n",
    "    return model\n",
    "\n",
    "denoiser = load_denoiser()\n",
    "\n",
    "param_size = 0\n",
    "for param in denoiser.parameters():\n",
    "    param_size += param.nelement() * param.element_size()\n",
    "\n",
    "size_all_mb = (param_size + 0) / 1024**2\n",
    "print(\"Model size: {:.3f}MB with {} parameters\".format(size_all_mb, sum(p.numel() for p in denoiser.parameters())))"
   ]
  }
 ],
 "metadata": {
  "kernelspec": {
   "display_name": "Python 3",
   "language": "python",
   "name": "python3"
  },
  "language_info": {
   "codemirror_mode": {
    "name": "ipython",
    "version": 3
   },
   "file_extension": ".py",
   "mimetype": "text/x-python",
   "name": "python",
   "nbconvert_exporter": "python",
   "pygments_lexer": "ipython3",
   "version": "3.12.4"
  }
 },
 "nbformat": 4,
 "nbformat_minor": 2
}
